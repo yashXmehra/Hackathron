{
 "cells": [
  {
   "cell_type": "code",
   "execution_count": 51,
   "id": "41d42028",
   "metadata": {},
   "outputs": [
    {
     "name": "stdout",
     "output_type": "stream",
     "text": [
      "Collecting lightgbm\n",
      "  Using cached lightgbm-3.3.2-py3-none-win_amd64.whl (1.0 MB)\n",
      "Requirement already satisfied: numpy in c:\\users\\yash\\anaconda3\\lib\\site-packages (from lightgbm) (1.20.3)\n",
      "Requirement already satisfied: scipy in c:\\users\\yash\\anaconda3\\lib\\site-packages (from lightgbm) (1.7.1)\n",
      "Requirement already satisfied: scikit-learn!=0.22.0 in c:\\users\\yash\\anaconda3\\lib\\site-packages (from lightgbm) (0.24.2)\n",
      "Requirement already satisfied: wheel in c:\\users\\yash\\anaconda3\\lib\\site-packages (from lightgbm) (0.37.0)\n",
      "Requirement already satisfied: joblib>=0.11 in c:\\users\\yash\\anaconda3\\lib\\site-packages (from scikit-learn!=0.22.0->lightgbm) (1.1.0)\n",
      "Requirement already satisfied: threadpoolctl>=2.0.0 in c:\\users\\yash\\anaconda3\\lib\\site-packages (from scikit-learn!=0.22.0->lightgbm) (2.2.0)\n",
      "Installing collected packages: lightgbm\n",
      "Successfully installed lightgbm-3.3.2\n"
     ]
    }
   ],
   "source": [
    "!pip install lightgbm"
   ]
  },
  {
   "cell_type": "code",
   "execution_count": 120,
   "id": "b3e78c6f",
   "metadata": {},
   "outputs": [
    {
     "name": "stdout",
     "output_type": "stream",
     "text": [
      "Collecting catboost\n",
      "  Downloading catboost-1.0.6-cp39-none-win_amd64.whl (73.9 MB)\n",
      "Collecting plotly\n",
      "  Downloading plotly-5.8.0-py2.py3-none-any.whl (15.2 MB)\n",
      "Requirement already satisfied: pandas>=0.24.0 in c:\\users\\yash\\anaconda3\\lib\\site-packages (from catboost) (1.3.4)\n",
      "Collecting graphviz\n",
      "  Downloading graphviz-0.20-py3-none-any.whl (46 kB)\n",
      "Requirement already satisfied: numpy>=1.16.0 in c:\\users\\yash\\anaconda3\\lib\\site-packages (from catboost) (1.20.3)\n",
      "Requirement already satisfied: scipy in c:\\users\\yash\\anaconda3\\lib\\site-packages (from catboost) (1.7.1)\n",
      "Requirement already satisfied: six in c:\\users\\yash\\anaconda3\\lib\\site-packages (from catboost) (1.16.0)\n",
      "Requirement already satisfied: matplotlib in c:\\users\\yash\\anaconda3\\lib\\site-packages (from catboost) (3.4.3)\n",
      "Requirement already satisfied: python-dateutil>=2.7.3 in c:\\users\\yash\\anaconda3\\lib\\site-packages (from pandas>=0.24.0->catboost) (2.8.2)\n",
      "Requirement already satisfied: pytz>=2017.3 in c:\\users\\yash\\anaconda3\\lib\\site-packages (from pandas>=0.24.0->catboost) (2021.3)\n",
      "Requirement already satisfied: cycler>=0.10 in c:\\users\\yash\\anaconda3\\lib\\site-packages (from matplotlib->catboost) (0.10.0)\n",
      "Requirement already satisfied: pillow>=6.2.0 in c:\\users\\yash\\anaconda3\\lib\\site-packages (from matplotlib->catboost) (8.4.0)\n",
      "Requirement already satisfied: kiwisolver>=1.0.1 in c:\\users\\yash\\anaconda3\\lib\\site-packages (from matplotlib->catboost) (1.3.1)\n",
      "Requirement already satisfied: pyparsing>=2.2.1 in c:\\users\\yash\\anaconda3\\lib\\site-packages (from matplotlib->catboost) (3.0.4)\n",
      "Collecting tenacity>=6.2.0\n",
      "  Using cached tenacity-8.0.1-py3-none-any.whl (24 kB)\n",
      "Installing collected packages: tenacity, plotly, graphviz, catboost\n",
      "Successfully installed catboost-1.0.6 graphviz-0.20 plotly-5.8.0 tenacity-8.0.1\n"
     ]
    }
   ],
   "source": [
    "!pip install catboost"
   ]
  },
  {
   "cell_type": "code",
   "execution_count": 66,
   "id": "dbe5e39d",
   "metadata": {},
   "outputs": [
    {
     "ename": "ModuleNotFoundError",
     "evalue": "No module named 'catboost'",
     "output_type": "error",
     "traceback": [
      "\u001b[1;31m---------------------------------------------------------------------------\u001b[0m",
      "\u001b[1;31mModuleNotFoundError\u001b[0m                       Traceback (most recent call last)",
      "\u001b[1;32m~\\AppData\\Local\\Temp/ipykernel_18024/1735807504.py\u001b[0m in \u001b[0;36m<module>\u001b[1;34m\u001b[0m\n\u001b[0;32m      7\u001b[0m \u001b[1;32mfrom\u001b[0m \u001b[0msklearn\u001b[0m\u001b[1;33m.\u001b[0m\u001b[0mmodel_selection\u001b[0m \u001b[1;32mimport\u001b[0m \u001b[0mKFold\u001b[0m\u001b[1;33m\u001b[0m\u001b[1;33m\u001b[0m\u001b[0m\n\u001b[0;32m      8\u001b[0m \u001b[1;32mimport\u001b[0m \u001b[0mlightgbm\u001b[0m \u001b[1;32mas\u001b[0m \u001b[0mlgb\u001b[0m\u001b[1;33m\u001b[0m\u001b[1;33m\u001b[0m\u001b[0m\n\u001b[1;32m----> 9\u001b[1;33m \u001b[1;32mimport\u001b[0m \u001b[0mcatboost\u001b[0m \u001b[1;32mas\u001b[0m \u001b[0mcb\u001b[0m\u001b[1;33m\u001b[0m\u001b[1;33m\u001b[0m\u001b[0m\n\u001b[0m",
      "\u001b[1;31mModuleNotFoundError\u001b[0m: No module named 'catboost'"
     ]
    }
   ],
   "source": [
    "import matplotlib.pyplot as plt\n",
    "import seaborn as sns\n",
    "import numpy as np # linear algebra\n",
    "import pandas as pd # data processing, CSV file I/O (e.g. pd.read_csv)\n",
    "from sklearn.metrics import r2_score\n",
    "import seaborn as sns\n",
    "from sklearn.model_selection import KFold \n"
   ]
  },
  {
   "cell_type": "code",
   "execution_count": 67,
   "id": "7944e691",
   "metadata": {},
   "outputs": [],
   "source": [
    "train = pd.read_csv('https://raw.githubusercontent.com/yashXmehra/Hackathron/main/train_0OECtn8.csv')\n",
    "test = pd.read_csv('https://raw.githubusercontent.com/yashXmehra/Hackathron/main/test_KEUNoE1_MzIdO6t.csv')\n",
    "sub = pd.read_csv(\"https://raw.githubusercontent.com/yashXmehra/Hackathron/main/sample_submission_JPlpRcN.csv\")"
   ]
  },
  {
   "cell_type": "code",
   "execution_count": 68,
   "id": "baa4af67",
   "metadata": {},
   "outputs": [
    {
     "data": {
      "text/plain": [
       "((89197, 10), (11121, 9))"
      ]
     },
     "execution_count": 68,
     "metadata": {},
     "output_type": "execute_result"
    }
   ],
   "source": [
    "train.shape, test.shape"
   ]
  },
  {
   "cell_type": "code",
   "execution_count": 69,
   "id": "5f665a08",
   "metadata": {},
   "outputs": [
    {
     "data": {
      "text/html": [
       "<div>\n",
       "<style scoped>\n",
       "    .dataframe tbody tr th:only-of-type {\n",
       "        vertical-align: middle;\n",
       "    }\n",
       "\n",
       "    .dataframe tbody tr th {\n",
       "        vertical-align: top;\n",
       "    }\n",
       "\n",
       "    .dataframe thead th {\n",
       "        text-align: right;\n",
       "    }\n",
       "</style>\n",
       "<table border=\"1\" class=\"dataframe\">\n",
       "  <thead>\n",
       "    <tr style=\"text-align: right;\">\n",
       "      <th></th>\n",
       "      <th>row_id</th>\n",
       "      <th>user_id</th>\n",
       "      <th>category_id</th>\n",
       "      <th>video_id</th>\n",
       "      <th>age</th>\n",
       "      <th>gender</th>\n",
       "      <th>profession</th>\n",
       "      <th>followers</th>\n",
       "      <th>views</th>\n",
       "      <th>engagement_score</th>\n",
       "    </tr>\n",
       "  </thead>\n",
       "  <tbody>\n",
       "    <tr>\n",
       "      <th>0</th>\n",
       "      <td>1</td>\n",
       "      <td>19990</td>\n",
       "      <td>37</td>\n",
       "      <td>128</td>\n",
       "      <td>24</td>\n",
       "      <td>Male</td>\n",
       "      <td>Student</td>\n",
       "      <td>180</td>\n",
       "      <td>1000</td>\n",
       "      <td>4.33</td>\n",
       "    </tr>\n",
       "    <tr>\n",
       "      <th>1</th>\n",
       "      <td>2</td>\n",
       "      <td>5304</td>\n",
       "      <td>32</td>\n",
       "      <td>132</td>\n",
       "      <td>14</td>\n",
       "      <td>Female</td>\n",
       "      <td>Student</td>\n",
       "      <td>330</td>\n",
       "      <td>714</td>\n",
       "      <td>1.79</td>\n",
       "    </tr>\n",
       "    <tr>\n",
       "      <th>2</th>\n",
       "      <td>3</td>\n",
       "      <td>1840</td>\n",
       "      <td>12</td>\n",
       "      <td>24</td>\n",
       "      <td>19</td>\n",
       "      <td>Male</td>\n",
       "      <td>Student</td>\n",
       "      <td>180</td>\n",
       "      <td>138</td>\n",
       "      <td>4.35</td>\n",
       "    </tr>\n",
       "    <tr>\n",
       "      <th>3</th>\n",
       "      <td>4</td>\n",
       "      <td>12597</td>\n",
       "      <td>23</td>\n",
       "      <td>112</td>\n",
       "      <td>19</td>\n",
       "      <td>Male</td>\n",
       "      <td>Student</td>\n",
       "      <td>220</td>\n",
       "      <td>613</td>\n",
       "      <td>3.77</td>\n",
       "    </tr>\n",
       "    <tr>\n",
       "      <th>4</th>\n",
       "      <td>5</td>\n",
       "      <td>13626</td>\n",
       "      <td>23</td>\n",
       "      <td>112</td>\n",
       "      <td>27</td>\n",
       "      <td>Male</td>\n",
       "      <td>Working Professional</td>\n",
       "      <td>220</td>\n",
       "      <td>613</td>\n",
       "      <td>3.13</td>\n",
       "    </tr>\n",
       "  </tbody>\n",
       "</table>\n",
       "</div>"
      ],
      "text/plain": [
       "   row_id  user_id  category_id  video_id  age  gender            profession  \\\n",
       "0       1    19990           37       128   24    Male               Student   \n",
       "1       2     5304           32       132   14  Female               Student   \n",
       "2       3     1840           12        24   19    Male               Student   \n",
       "3       4    12597           23       112   19    Male               Student   \n",
       "4       5    13626           23       112   27    Male  Working Professional   \n",
       "\n",
       "   followers  views  engagement_score  \n",
       "0        180   1000              4.33  \n",
       "1        330    714              1.79  \n",
       "2        180    138              4.35  \n",
       "3        220    613              3.77  \n",
       "4        220    613              3.13  "
      ]
     },
     "execution_count": 69,
     "metadata": {},
     "output_type": "execute_result"
    }
   ],
   "source": [
    "train.head()"
   ]
  },
  {
   "cell_type": "code",
   "execution_count": 70,
   "id": "7dc3da4d",
   "metadata": {},
   "outputs": [
    {
     "data": {
      "text/plain": [
       "row_id                int64\n",
       "user_id               int64\n",
       "category_id           int64\n",
       "video_id              int64\n",
       "age                   int64\n",
       "gender               object\n",
       "profession           object\n",
       "followers             int64\n",
       "views                 int64\n",
       "engagement_score    float64\n",
       "dtype: object"
      ]
     },
     "execution_count": 70,
     "metadata": {},
     "output_type": "execute_result"
    }
   ],
   "source": [
    "train.dtypes"
   ]
  },
  {
   "cell_type": "code",
   "execution_count": 71,
   "id": "e0e7a677",
   "metadata": {},
   "outputs": [
    {
     "data": {
      "text/plain": [
       "row_id          int64\n",
       "user_id         int64\n",
       "category_id     int64\n",
       "video_id        int64\n",
       "age             int64\n",
       "gender         object\n",
       "profession     object\n",
       "followers       int64\n",
       "views           int64\n",
       "dtype: object"
      ]
     },
     "execution_count": 71,
     "metadata": {},
     "output_type": "execute_result"
    }
   ],
   "source": [
    "test.dtypes"
   ]
  },
  {
   "cell_type": "code",
   "execution_count": 72,
   "id": "b3822268",
   "metadata": {},
   "outputs": [
    {
     "data": {
      "text/plain": [
       "(row_id              0\n",
       " user_id             0\n",
       " category_id         0\n",
       " video_id            0\n",
       " age                 0\n",
       " gender              0\n",
       " profession          0\n",
       " followers           0\n",
       " views               0\n",
       " engagement_score    0\n",
       " dtype: int64,\n",
       " row_id         0\n",
       " user_id        0\n",
       " category_id    0\n",
       " video_id       0\n",
       " age            0\n",
       " gender         0\n",
       " profession     0\n",
       " followers      0\n",
       " views          0\n",
       " dtype: int64)"
      ]
     },
     "execution_count": 72,
     "metadata": {},
     "output_type": "execute_result"
    }
   ],
   "source": [
    "train.isnull().sum(),test.isnull().sum()"
   ]
  },
  {
   "cell_type": "code",
   "execution_count": 73,
   "id": "f6436aa0",
   "metadata": {},
   "outputs": [
    {
     "data": {
      "text/plain": [
       "5198     10\n",
       "13218    10\n",
       "1448     10\n",
       "13410    10\n",
       "7157     10\n",
       "         ..\n",
       "21507     2\n",
       "4404      2\n",
       "21430     2\n",
       "17541     2\n",
       "11279     2\n",
       "Name: user_id, Length: 27734, dtype: int64"
      ]
     },
     "execution_count": 73,
     "metadata": {},
     "output_type": "execute_result"
    }
   ],
   "source": [
    "train[\"user_id\"].value_counts()"
   ]
  },
  {
   "cell_type": "code",
   "execution_count": 74,
   "id": "95a7218d",
   "metadata": {},
   "outputs": [
    {
     "data": {
      "image/png": "[encoded data removed]",
      "text/plain": [
       "<Figure size 432x288 with 1 Axes>"
      ]
     },
     "metadata": {
      "needs_background": "light"
     },
     "output_type": "display_data"
    }
   ],
   "source": [
    "train['user_id'].value_counts().plot(kind='bar');"
   ]
  },
  {
   "cell_type": "code",
   "execution_count": 75,
   "id": "edf9e0a7",
   "metadata": {},
   "outputs": [
    {
     "data": {
      "text/plain": [
       "Student                 44638\n",
       "Other                   26840\n",
       "Working Professional    17719\n",
       "Name: profession, dtype: int64"
      ]
     },
     "execution_count": 75,
     "metadata": {},
     "output_type": "execute_result"
    }
   ],
   "source": [
    "train.profession.value_counts()"
   ]
  },
  {
   "cell_type": "code",
   "execution_count": 76,
   "id": "625df35a",
   "metadata": {},
   "outputs": [
    {
     "data": {
      "text/plain": [
       "<AxesSubplot:>"
      ]
     },
     "execution_count": 76,
     "metadata": {},
     "output_type": "execute_result"
    },
    {
     "data": {
      "image/png": "[encoded data removed]",
      "text/plain": [
       "<Figure size 432x288 with 1 Axes>"
      ]
     },
     "metadata": {
      "needs_background": "light"
     },
     "output_type": "display_data"
    }
   ],
   "source": [
    "train[\"profession\"].value_counts(normalize = True).plot(kind=\"bar\")"
   ]
  },
  {
   "cell_type": "code",
   "execution_count": 77,
   "id": "7bbbe8ea",
   "metadata": {},
   "outputs": [
    {
     "data": {
      "text/plain": [
       "5     8104\n",
       "8     6313\n",
       "25    4880\n",
       "19    4679\n",
       "21    4043\n",
       "12    3889\n",
       "11    3766\n",
       "4     3678\n",
       "34    3297\n",
       "16    3264\n",
       "13    2777\n",
       "32    2712\n",
       "23    2671\n",
       "18    2241\n",
       "42    2178\n",
       "15    2164\n",
       "9     1886\n",
       "7     1885\n",
       "31    1855\n",
       "3     1845\n",
       "1     1810\n",
       "6     1399\n",
       "39    1339\n",
       "28    1309\n",
       "10    1217\n",
       "17    1208\n",
       "26    1156\n",
       "27    1103\n",
       "36    1025\n",
       "43    1019\n",
       "35     986\n",
       "37     962\n",
       "29     916\n",
       "20     702\n",
       "30     548\n",
       "41     545\n",
       "14     536\n",
       "38     534\n",
       "24     524\n",
       "33     517\n",
       "40     458\n",
       "22     366\n",
       "46     236\n",
       "45     227\n",
       "44     214\n",
       "2      167\n",
       "47      47\n",
       "Name: category_id, dtype: int64"
      ]
     },
     "execution_count": 77,
     "metadata": {},
     "output_type": "execute_result"
    }
   ],
   "source": [
    "train[\"category_id\"].value_counts()"
   ]
  },
  {
   "cell_type": "code",
   "execution_count": 78,
   "id": "495d2217",
   "metadata": {},
   "outputs": [
    {
     "data": {
      "text/plain": [
       "112    1337\n",
       "53     1334\n",
       "1      1282\n",
       "65     1103\n",
       "42     1077\n",
       "       ... \n",
       "165      78\n",
       "171      78\n",
       "174      70\n",
       "166      66\n",
       "175      47\n",
       "Name: video_id, Length: 175, dtype: int64"
      ]
     },
     "execution_count": 78,
     "metadata": {},
     "output_type": "execute_result"
    }
   ],
   "source": [
    "train[\"video_id\"].value_counts()"
   ]
  },
  {
   "cell_type": "markdown",
   "id": "6baac35c",
   "metadata": {},
   "source": [
    "**Getting unique values as well as what the data looks for a particular category**\n"
   ]
  },
  {
   "cell_type": "code",
   "execution_count": 79,
   "id": "c0984135",
   "metadata": {},
   "outputs": [
    {
     "data": {
      "text/html": [
       "<div>\n",
       "<style scoped>\n",
       "    .dataframe tbody tr th:only-of-type {\n",
       "        vertical-align: middle;\n",
       "    }\n",
       "\n",
       "    .dataframe tbody tr th {\n",
       "        vertical-align: top;\n",
       "    }\n",
       "\n",
       "    .dataframe thead th {\n",
       "        text-align: right;\n",
       "    }\n",
       "</style>\n",
       "<table border=\"1\" class=\"dataframe\">\n",
       "  <thead>\n",
       "    <tr style=\"text-align: right;\">\n",
       "      <th></th>\n",
       "      <th>row_id</th>\n",
       "      <th>user_id</th>\n",
       "      <th>category_id</th>\n",
       "      <th>video_id</th>\n",
       "      <th>age</th>\n",
       "      <th>gender</th>\n",
       "      <th>profession</th>\n",
       "      <th>followers</th>\n",
       "      <th>views</th>\n",
       "      <th>engagement_score</th>\n",
       "    </tr>\n",
       "  </thead>\n",
       "  <tbody>\n",
       "    <tr>\n",
       "      <th>23213</th>\n",
       "      <td>23214</td>\n",
       "      <td>2</td>\n",
       "      <td>4</td>\n",
       "      <td>7</td>\n",
       "      <td>28</td>\n",
       "      <td>Female</td>\n",
       "      <td>Working Professional</td>\n",
       "      <td>230</td>\n",
       "      <td>781</td>\n",
       "      <td>2.65</td>\n",
       "    </tr>\n",
       "    <tr>\n",
       "      <th>25590</th>\n",
       "      <td>25591</td>\n",
       "      <td>2</td>\n",
       "      <td>3</td>\n",
       "      <td>5</td>\n",
       "      <td>28</td>\n",
       "      <td>Female</td>\n",
       "      <td>Working Professional</td>\n",
       "      <td>270</td>\n",
       "      <td>621</td>\n",
       "      <td>3.50</td>\n",
       "    </tr>\n",
       "    <tr>\n",
       "      <th>63785</th>\n",
       "      <td>63786</td>\n",
       "      <td>2</td>\n",
       "      <td>4</td>\n",
       "      <td>8</td>\n",
       "      <td>28</td>\n",
       "      <td>Female</td>\n",
       "      <td>Working Professional</td>\n",
       "      <td>230</td>\n",
       "      <td>781</td>\n",
       "      <td>2.85</td>\n",
       "    </tr>\n",
       "    <tr>\n",
       "      <th>64557</th>\n",
       "      <td>64558</td>\n",
       "      <td>2</td>\n",
       "      <td>4</td>\n",
       "      <td>6</td>\n",
       "      <td>28</td>\n",
       "      <td>Female</td>\n",
       "      <td>Working Professional</td>\n",
       "      <td>230</td>\n",
       "      <td>781</td>\n",
       "      <td>2.76</td>\n",
       "    </tr>\n",
       "    <tr>\n",
       "      <th>69848</th>\n",
       "      <td>69849</td>\n",
       "      <td>2</td>\n",
       "      <td>3</td>\n",
       "      <td>4</td>\n",
       "      <td>28</td>\n",
       "      <td>Female</td>\n",
       "      <td>Working Professional</td>\n",
       "      <td>270</td>\n",
       "      <td>621</td>\n",
       "      <td>3.65</td>\n",
       "    </tr>\n",
       "  </tbody>\n",
       "</table>\n",
       "</div>"
      ],
      "text/plain": [
       "       row_id  user_id  category_id  video_id  age  gender  \\\n",
       "23213   23214        2            4         7   28  Female   \n",
       "25590   25591        2            3         5   28  Female   \n",
       "63785   63786        2            4         8   28  Female   \n",
       "64557   64558        2            4         6   28  Female   \n",
       "69848   69849        2            3         4   28  Female   \n",
       "\n",
       "                 profession  followers  views  engagement_score  \n",
       "23213  Working Professional        230    781              2.65  \n",
       "25590  Working Professional        270    621              3.50  \n",
       "63785  Working Professional        230    781              2.85  \n",
       "64557  Working Professional        230    781              2.76  \n",
       "69848  Working Professional        270    621              3.65  "
      ]
     },
     "execution_count": 79,
     "metadata": {},
     "output_type": "execute_result"
    }
   ],
   "source": [
    "train[train['user_id']==2]\n",
    "# number of videos user has watched"
   ]
  },
  {
   "cell_type": "code",
   "execution_count": 80,
   "id": "4e8d4bf3",
   "metadata": {},
   "outputs": [
    {
     "data": {
      "text/html": [
       "<div>\n",
       "<style scoped>\n",
       "    .dataframe tbody tr th:only-of-type {\n",
       "        vertical-align: middle;\n",
       "    }\n",
       "\n",
       "    .dataframe tbody tr th {\n",
       "        vertical-align: top;\n",
       "    }\n",
       "\n",
       "    .dataframe thead th {\n",
       "        text-align: right;\n",
       "    }\n",
       "</style>\n",
       "<table border=\"1\" class=\"dataframe\">\n",
       "  <thead>\n",
       "    <tr style=\"text-align: right;\">\n",
       "      <th></th>\n",
       "      <th>row_id</th>\n",
       "      <th>user_id</th>\n",
       "      <th>category_id</th>\n",
       "      <th>video_id</th>\n",
       "      <th>age</th>\n",
       "      <th>gender</th>\n",
       "      <th>profession</th>\n",
       "      <th>followers</th>\n",
       "      <th>views</th>\n",
       "      <th>engagement_score</th>\n",
       "    </tr>\n",
       "  </thead>\n",
       "  <tbody>\n",
       "    <tr>\n",
       "      <th>133</th>\n",
       "      <td>134</td>\n",
       "      <td>14777</td>\n",
       "      <td>4</td>\n",
       "      <td>8</td>\n",
       "      <td>32</td>\n",
       "      <td>Female</td>\n",
       "      <td>Other</td>\n",
       "      <td>230</td>\n",
       "      <td>781</td>\n",
       "      <td>3.40</td>\n",
       "    </tr>\n",
       "    <tr>\n",
       "      <th>150</th>\n",
       "      <td>151</td>\n",
       "      <td>16103</td>\n",
       "      <td>4</td>\n",
       "      <td>8</td>\n",
       "      <td>22</td>\n",
       "      <td>Male</td>\n",
       "      <td>Student</td>\n",
       "      <td>230</td>\n",
       "      <td>781</td>\n",
       "      <td>4.31</td>\n",
       "    </tr>\n",
       "    <tr>\n",
       "      <th>193</th>\n",
       "      <td>194</td>\n",
       "      <td>12946</td>\n",
       "      <td>4</td>\n",
       "      <td>8</td>\n",
       "      <td>13</td>\n",
       "      <td>Female</td>\n",
       "      <td>Student</td>\n",
       "      <td>230</td>\n",
       "      <td>781</td>\n",
       "      <td>2.48</td>\n",
       "    </tr>\n",
       "    <tr>\n",
       "      <th>640</th>\n",
       "      <td>641</td>\n",
       "      <td>27134</td>\n",
       "      <td>4</td>\n",
       "      <td>8</td>\n",
       "      <td>15</td>\n",
       "      <td>Female</td>\n",
       "      <td>Student</td>\n",
       "      <td>230</td>\n",
       "      <td>781</td>\n",
       "      <td>2.48</td>\n",
       "    </tr>\n",
       "    <tr>\n",
       "      <th>641</th>\n",
       "      <td>642</td>\n",
       "      <td>232</td>\n",
       "      <td>4</td>\n",
       "      <td>8</td>\n",
       "      <td>20</td>\n",
       "      <td>Male</td>\n",
       "      <td>Student</td>\n",
       "      <td>230</td>\n",
       "      <td>781</td>\n",
       "      <td>4.14</td>\n",
       "    </tr>\n",
       "    <tr>\n",
       "      <th>...</th>\n",
       "      <td>...</td>\n",
       "      <td>...</td>\n",
       "      <td>...</td>\n",
       "      <td>...</td>\n",
       "      <td>...</td>\n",
       "      <td>...</td>\n",
       "      <td>...</td>\n",
       "      <td>...</td>\n",
       "      <td>...</td>\n",
       "      <td>...</td>\n",
       "    </tr>\n",
       "    <tr>\n",
       "      <th>88436</th>\n",
       "      <td>88437</td>\n",
       "      <td>13857</td>\n",
       "      <td>4</td>\n",
       "      <td>8</td>\n",
       "      <td>44</td>\n",
       "      <td>Female</td>\n",
       "      <td>Working Professional</td>\n",
       "      <td>230</td>\n",
       "      <td>781</td>\n",
       "      <td>1.96</td>\n",
       "    </tr>\n",
       "    <tr>\n",
       "      <th>88513</th>\n",
       "      <td>88514</td>\n",
       "      <td>15886</td>\n",
       "      <td>4</td>\n",
       "      <td>8</td>\n",
       "      <td>29</td>\n",
       "      <td>Female</td>\n",
       "      <td>Working Professional</td>\n",
       "      <td>230</td>\n",
       "      <td>781</td>\n",
       "      <td>1.84</td>\n",
       "    </tr>\n",
       "    <tr>\n",
       "      <th>88929</th>\n",
       "      <td>88930</td>\n",
       "      <td>5950</td>\n",
       "      <td>4</td>\n",
       "      <td>8</td>\n",
       "      <td>39</td>\n",
       "      <td>Female</td>\n",
       "      <td>Other</td>\n",
       "      <td>230</td>\n",
       "      <td>781</td>\n",
       "      <td>2.48</td>\n",
       "    </tr>\n",
       "    <tr>\n",
       "      <th>89055</th>\n",
       "      <td>89056</td>\n",
       "      <td>19673</td>\n",
       "      <td>4</td>\n",
       "      <td>8</td>\n",
       "      <td>22</td>\n",
       "      <td>Male</td>\n",
       "      <td>Student</td>\n",
       "      <td>230</td>\n",
       "      <td>781</td>\n",
       "      <td>4.11</td>\n",
       "    </tr>\n",
       "    <tr>\n",
       "      <th>89092</th>\n",
       "      <td>89093</td>\n",
       "      <td>14717</td>\n",
       "      <td>4</td>\n",
       "      <td>8</td>\n",
       "      <td>20</td>\n",
       "      <td>Female</td>\n",
       "      <td>Student</td>\n",
       "      <td>230</td>\n",
       "      <td>781</td>\n",
       "      <td>3.77</td>\n",
       "    </tr>\n",
       "  </tbody>\n",
       "</table>\n",
       "<p>716 rows × 10 columns</p>\n",
       "</div>"
      ],
      "text/plain": [
       "       row_id  user_id  category_id  video_id  age  gender  \\\n",
       "133       134    14777            4         8   32  Female   \n",
       "150       151    16103            4         8   22    Male   \n",
       "193       194    12946            4         8   13  Female   \n",
       "640       641    27134            4         8   15  Female   \n",
       "641       642      232            4         8   20    Male   \n",
       "...       ...      ...          ...       ...  ...     ...   \n",
       "88436   88437    13857            4         8   44  Female   \n",
       "88513   88514    15886            4         8   29  Female   \n",
       "88929   88930     5950            4         8   39  Female   \n",
       "89055   89056    19673            4         8   22    Male   \n",
       "89092   89093    14717            4         8   20  Female   \n",
       "\n",
       "                 profession  followers  views  engagement_score  \n",
       "133                   Other        230    781              3.40  \n",
       "150                 Student        230    781              4.31  \n",
       "193                 Student        230    781              2.48  \n",
       "640                 Student        230    781              2.48  \n",
       "641                 Student        230    781              4.14  \n",
       "...                     ...        ...    ...               ...  \n",
       "88436  Working Professional        230    781              1.96  \n",
       "88513  Working Professional        230    781              1.84  \n",
       "88929                 Other        230    781              2.48  \n",
       "89055               Student        230    781              4.11  \n",
       "89092               Student        230    781              3.77  \n",
       "\n",
       "[716 rows x 10 columns]"
      ]
     },
     "execution_count": 80,
     "metadata": {},
     "output_type": "execute_result"
    }
   ],
   "source": [
    "train[train['video_id']==8]"
   ]
  },
  {
   "cell_type": "code",
   "execution_count": 81,
   "id": "a580dad1",
   "metadata": {},
   "outputs": [
    {
     "data": {
      "text/html": [
       "<div>\n",
       "<style scoped>\n",
       "    .dataframe tbody tr th:only-of-type {\n",
       "        vertical-align: middle;\n",
       "    }\n",
       "\n",
       "    .dataframe tbody tr th {\n",
       "        vertical-align: top;\n",
       "    }\n",
       "\n",
       "    .dataframe thead th {\n",
       "        text-align: right;\n",
       "    }\n",
       "</style>\n",
       "<table border=\"1\" class=\"dataframe\">\n",
       "  <thead>\n",
       "    <tr style=\"text-align: right;\">\n",
       "      <th></th>\n",
       "      <th>row_id</th>\n",
       "      <th>user_id</th>\n",
       "      <th>category_id</th>\n",
       "      <th>video_id</th>\n",
       "      <th>age</th>\n",
       "      <th>gender</th>\n",
       "      <th>profession</th>\n",
       "      <th>followers</th>\n",
       "      <th>views</th>\n",
       "      <th>engagement_score</th>\n",
       "    </tr>\n",
       "  </thead>\n",
       "  <tbody>\n",
       "    <tr>\n",
       "      <th>22</th>\n",
       "      <td>23</td>\n",
       "      <td>5513</td>\n",
       "      <td>4</td>\n",
       "      <td>99</td>\n",
       "      <td>55</td>\n",
       "      <td>Female</td>\n",
       "      <td>Working Professional</td>\n",
       "      <td>230</td>\n",
       "      <td>781</td>\n",
       "      <td>1.71</td>\n",
       "    </tr>\n",
       "    <tr>\n",
       "      <th>62</th>\n",
       "      <td>63</td>\n",
       "      <td>21891</td>\n",
       "      <td>4</td>\n",
       "      <td>6</td>\n",
       "      <td>28</td>\n",
       "      <td>Female</td>\n",
       "      <td>Other</td>\n",
       "      <td>230</td>\n",
       "      <td>781</td>\n",
       "      <td>1.95</td>\n",
       "    </tr>\n",
       "    <tr>\n",
       "      <th>133</th>\n",
       "      <td>134</td>\n",
       "      <td>14777</td>\n",
       "      <td>4</td>\n",
       "      <td>8</td>\n",
       "      <td>32</td>\n",
       "      <td>Female</td>\n",
       "      <td>Other</td>\n",
       "      <td>230</td>\n",
       "      <td>781</td>\n",
       "      <td>3.40</td>\n",
       "    </tr>\n",
       "    <tr>\n",
       "      <th>150</th>\n",
       "      <td>151</td>\n",
       "      <td>16103</td>\n",
       "      <td>4</td>\n",
       "      <td>8</td>\n",
       "      <td>22</td>\n",
       "      <td>Male</td>\n",
       "      <td>Student</td>\n",
       "      <td>230</td>\n",
       "      <td>781</td>\n",
       "      <td>4.31</td>\n",
       "    </tr>\n",
       "    <tr>\n",
       "      <th>193</th>\n",
       "      <td>194</td>\n",
       "      <td>12946</td>\n",
       "      <td>4</td>\n",
       "      <td>8</td>\n",
       "      <td>13</td>\n",
       "      <td>Female</td>\n",
       "      <td>Student</td>\n",
       "      <td>230</td>\n",
       "      <td>781</td>\n",
       "      <td>2.48</td>\n",
       "    </tr>\n",
       "    <tr>\n",
       "      <th>...</th>\n",
       "      <td>...</td>\n",
       "      <td>...</td>\n",
       "      <td>...</td>\n",
       "      <td>...</td>\n",
       "      <td>...</td>\n",
       "      <td>...</td>\n",
       "      <td>...</td>\n",
       "      <td>...</td>\n",
       "      <td>...</td>\n",
       "      <td>...</td>\n",
       "    </tr>\n",
       "    <tr>\n",
       "      <th>89114</th>\n",
       "      <td>89115</td>\n",
       "      <td>3126</td>\n",
       "      <td>4</td>\n",
       "      <td>6</td>\n",
       "      <td>31</td>\n",
       "      <td>Male</td>\n",
       "      <td>Other</td>\n",
       "      <td>230</td>\n",
       "      <td>781</td>\n",
       "      <td>3.95</td>\n",
       "    </tr>\n",
       "    <tr>\n",
       "      <th>89128</th>\n",
       "      <td>89129</td>\n",
       "      <td>9239</td>\n",
       "      <td>4</td>\n",
       "      <td>99</td>\n",
       "      <td>20</td>\n",
       "      <td>Female</td>\n",
       "      <td>Student</td>\n",
       "      <td>230</td>\n",
       "      <td>781</td>\n",
       "      <td>3.44</td>\n",
       "    </tr>\n",
       "    <tr>\n",
       "      <th>89130</th>\n",
       "      <td>89131</td>\n",
       "      <td>24999</td>\n",
       "      <td>4</td>\n",
       "      <td>7</td>\n",
       "      <td>18</td>\n",
       "      <td>Male</td>\n",
       "      <td>Student</td>\n",
       "      <td>230</td>\n",
       "      <td>781</td>\n",
       "      <td>4.29</td>\n",
       "    </tr>\n",
       "    <tr>\n",
       "      <th>89165</th>\n",
       "      <td>89166</td>\n",
       "      <td>14809</td>\n",
       "      <td>4</td>\n",
       "      <td>64</td>\n",
       "      <td>20</td>\n",
       "      <td>Male</td>\n",
       "      <td>Student</td>\n",
       "      <td>230</td>\n",
       "      <td>781</td>\n",
       "      <td>4.89</td>\n",
       "    </tr>\n",
       "    <tr>\n",
       "      <th>89177</th>\n",
       "      <td>89178</td>\n",
       "      <td>24242</td>\n",
       "      <td>4</td>\n",
       "      <td>7</td>\n",
       "      <td>45</td>\n",
       "      <td>Female</td>\n",
       "      <td>Working Professional</td>\n",
       "      <td>230</td>\n",
       "      <td>781</td>\n",
       "      <td>2.16</td>\n",
       "    </tr>\n",
       "  </tbody>\n",
       "</table>\n",
       "<p>3678 rows × 10 columns</p>\n",
       "</div>"
      ],
      "text/plain": [
       "       row_id  user_id  category_id  video_id  age  gender  \\\n",
       "22         23     5513            4        99   55  Female   \n",
       "62         63    21891            4         6   28  Female   \n",
       "133       134    14777            4         8   32  Female   \n",
       "150       151    16103            4         8   22    Male   \n",
       "193       194    12946            4         8   13  Female   \n",
       "...       ...      ...          ...       ...  ...     ...   \n",
       "89114   89115     3126            4         6   31    Male   \n",
       "89128   89129     9239            4        99   20  Female   \n",
       "89130   89131    24999            4         7   18    Male   \n",
       "89165   89166    14809            4        64   20    Male   \n",
       "89177   89178    24242            4         7   45  Female   \n",
       "\n",
       "                 profession  followers  views  engagement_score  \n",
       "22     Working Professional        230    781              1.71  \n",
       "62                    Other        230    781              1.95  \n",
       "133                   Other        230    781              3.40  \n",
       "150                 Student        230    781              4.31  \n",
       "193                 Student        230    781              2.48  \n",
       "...                     ...        ...    ...               ...  \n",
       "89114                 Other        230    781              3.95  \n",
       "89128               Student        230    781              3.44  \n",
       "89130               Student        230    781              4.29  \n",
       "89165               Student        230    781              4.89  \n",
       "89177  Working Professional        230    781              2.16  \n",
       "\n",
       "[3678 rows x 10 columns]"
      ]
     },
     "execution_count": 81,
     "metadata": {},
     "output_type": "execute_result"
    }
   ],
   "source": [
    "train[train['category_id']==4] \n",
    "# total 47 different categories. In each category, we have different video_ids"
   ]
  },
  {
   "cell_type": "code",
   "execution_count": 82,
   "id": "0cb51a78",
   "metadata": {},
   "outputs": [
    {
     "data": {
      "text/plain": [
       "1"
      ]
     },
     "execution_count": 82,
     "metadata": {},
     "output_type": "execute_result"
    }
   ],
   "source": [
    "(train.groupby('video_id').mean()['views']%1>0).sum()"
   ]
  },
  {
   "cell_type": "code",
   "execution_count": 83,
   "id": "6778448f",
   "metadata": {},
   "outputs": [
    {
     "data": {
      "text/html": [
       "<div>\n",
       "<style scoped>\n",
       "    .dataframe tbody tr th:only-of-type {\n",
       "        vertical-align: middle;\n",
       "    }\n",
       "\n",
       "    .dataframe tbody tr th {\n",
       "        vertical-align: top;\n",
       "    }\n",
       "\n",
       "    .dataframe thead th {\n",
       "        text-align: right;\n",
       "    }\n",
       "</style>\n",
       "<table border=\"1\" class=\"dataframe\">\n",
       "  <thead>\n",
       "    <tr style=\"text-align: right;\">\n",
       "      <th></th>\n",
       "      <th></th>\n",
       "      <th>row_id</th>\n",
       "      <th>user_id</th>\n",
       "      <th>age</th>\n",
       "      <th>followers</th>\n",
       "      <th>views</th>\n",
       "      <th>engagement_score</th>\n",
       "    </tr>\n",
       "    <tr>\n",
       "      <th>video_id</th>\n",
       "      <th>category_id</th>\n",
       "      <th></th>\n",
       "      <th></th>\n",
       "      <th></th>\n",
       "      <th></th>\n",
       "      <th></th>\n",
       "      <th></th>\n",
       "    </tr>\n",
       "  </thead>\n",
       "  <tbody>\n",
       "    <tr>\n",
       "      <th rowspan=\"2\" valign=\"top\">1</th>\n",
       "      <th>1</th>\n",
       "      <td>42795.375635</td>\n",
       "      <td>13245.671743</td>\n",
       "      <td>25.818951</td>\n",
       "      <td>360.0</td>\n",
       "      <td>990.0</td>\n",
       "      <td>3.514399</td>\n",
       "    </tr>\n",
       "    <tr>\n",
       "      <th>19</th>\n",
       "      <td>44635.714906</td>\n",
       "      <td>13870.041968</td>\n",
       "      <td>24.923300</td>\n",
       "      <td>230.0</td>\n",
       "      <td>369.0</td>\n",
       "      <td>3.593517</td>\n",
       "    </tr>\n",
       "    <tr>\n",
       "      <th>2</th>\n",
       "      <th>1</th>\n",
       "      <td>45288.278135</td>\n",
       "      <td>13938.191318</td>\n",
       "      <td>24.797428</td>\n",
       "      <td>360.0</td>\n",
       "      <td>990.0</td>\n",
       "      <td>3.659534</td>\n",
       "    </tr>\n",
       "    <tr>\n",
       "      <th>3</th>\n",
       "      <th>2</th>\n",
       "      <td>43794.520958</td>\n",
       "      <td>13672.988024</td>\n",
       "      <td>24.652695</td>\n",
       "      <td>220.0</td>\n",
       "      <td>30.0</td>\n",
       "      <td>3.830419</td>\n",
       "    </tr>\n",
       "    <tr>\n",
       "      <th>4</th>\n",
       "      <th>3</th>\n",
       "      <td>44598.611588</td>\n",
       "      <td>13711.336910</td>\n",
       "      <td>25.271459</td>\n",
       "      <td>270.0</td>\n",
       "      <td>621.0</td>\n",
       "      <td>3.957747</td>\n",
       "    </tr>\n",
       "    <tr>\n",
       "      <th>...</th>\n",
       "      <th>...</th>\n",
       "      <td>...</td>\n",
       "      <td>...</td>\n",
       "      <td>...</td>\n",
       "      <td>...</td>\n",
       "      <td>...</td>\n",
       "      <td>...</td>\n",
       "    </tr>\n",
       "    <tr>\n",
       "      <th>171</th>\n",
       "      <th>46</th>\n",
       "      <td>41985.923077</td>\n",
       "      <td>15654.961538</td>\n",
       "      <td>26.012821</td>\n",
       "      <td>190.0</td>\n",
       "      <td>840.0</td>\n",
       "      <td>3.371538</td>\n",
       "    </tr>\n",
       "    <tr>\n",
       "      <th>172</th>\n",
       "      <th>5</th>\n",
       "      <td>45320.889610</td>\n",
       "      <td>14787.844156</td>\n",
       "      <td>23.844156</td>\n",
       "      <td>240.0</td>\n",
       "      <td>229.0</td>\n",
       "      <td>3.461883</td>\n",
       "    </tr>\n",
       "    <tr>\n",
       "      <th>173</th>\n",
       "      <th>46</th>\n",
       "      <td>44916.587500</td>\n",
       "      <td>15019.550000</td>\n",
       "      <td>23.875000</td>\n",
       "      <td>190.0</td>\n",
       "      <td>840.0</td>\n",
       "      <td>3.119125</td>\n",
       "    </tr>\n",
       "    <tr>\n",
       "      <th>174</th>\n",
       "      <th>44</th>\n",
       "      <td>48145.571429</td>\n",
       "      <td>14105.757143</td>\n",
       "      <td>25.000000</td>\n",
       "      <td>210.0</td>\n",
       "      <td>636.0</td>\n",
       "      <td>3.292429</td>\n",
       "    </tr>\n",
       "    <tr>\n",
       "      <th>175</th>\n",
       "      <th>47</th>\n",
       "      <td>45724.085106</td>\n",
       "      <td>14730.574468</td>\n",
       "      <td>24.702128</td>\n",
       "      <td>260.0</td>\n",
       "      <td>248.0</td>\n",
       "      <td>3.690851</td>\n",
       "    </tr>\n",
       "  </tbody>\n",
       "</table>\n",
       "<p>176 rows × 6 columns</p>\n",
       "</div>"
      ],
      "text/plain": [
       "                            row_id       user_id        age  followers  views  \\\n",
       "video_id category_id                                                            \n",
       "1        1            42795.375635  13245.671743  25.818951      360.0  990.0   \n",
       "         19           44635.714906  13870.041968  24.923300      230.0  369.0   \n",
       "2        1            45288.278135  13938.191318  24.797428      360.0  990.0   \n",
       "3        2            43794.520958  13672.988024  24.652695      220.0   30.0   \n",
       "4        3            44598.611588  13711.336910  25.271459      270.0  621.0   \n",
       "...                            ...           ...        ...        ...    ...   \n",
       "171      46           41985.923077  15654.961538  26.012821      190.0  840.0   \n",
       "172      5            45320.889610  14787.844156  23.844156      240.0  229.0   \n",
       "173      46           44916.587500  15019.550000  23.875000      190.0  840.0   \n",
       "174      44           48145.571429  14105.757143  25.000000      210.0  636.0   \n",
       "175      47           45724.085106  14730.574468  24.702128      260.0  248.0   \n",
       "\n",
       "                      engagement_score  \n",
       "video_id category_id                    \n",
       "1        1                    3.514399  \n",
       "         19                   3.593517  \n",
       "2        1                    3.659534  \n",
       "3        2                    3.830419  \n",
       "4        3                    3.957747  \n",
       "...                                ...  \n",
       "171      46                   3.371538  \n",
       "172      5                    3.461883  \n",
       "173      46                   3.119125  \n",
       "174      44                   3.292429  \n",
       "175      47                   3.690851  \n",
       "\n",
       "[176 rows x 6 columns]"
      ]
     },
     "execution_count": 83,
     "metadata": {},
     "output_type": "execute_result"
    }
   ],
   "source": [
    "train.groupby(['video_id','category_id']).mean()"
   ]
  },
  {
   "cell_type": "code",
   "execution_count": 84,
   "id": "d4941a7f",
   "metadata": {},
   "outputs": [
    {
     "data": {
      "text/html": [
       "<div>\n",
       "<style scoped>\n",
       "    .dataframe tbody tr th:only-of-type {\n",
       "        vertical-align: middle;\n",
       "    }\n",
       "\n",
       "    .dataframe tbody tr th {\n",
       "        vertical-align: top;\n",
       "    }\n",
       "\n",
       "    .dataframe thead th {\n",
       "        text-align: right;\n",
       "    }\n",
       "</style>\n",
       "<table border=\"1\" class=\"dataframe\">\n",
       "  <thead>\n",
       "    <tr style=\"text-align: right;\">\n",
       "      <th></th>\n",
       "      <th>row_id</th>\n",
       "      <th>user_id</th>\n",
       "      <th>category_id</th>\n",
       "      <th>video_id</th>\n",
       "      <th>age</th>\n",
       "      <th>gender</th>\n",
       "      <th>profession</th>\n",
       "      <th>followers</th>\n",
       "      <th>views</th>\n",
       "      <th>engagement_score</th>\n",
       "    </tr>\n",
       "  </thead>\n",
       "  <tbody>\n",
       "    <tr>\n",
       "      <th>41</th>\n",
       "      <td>42</td>\n",
       "      <td>26687</td>\n",
       "      <td>1</td>\n",
       "      <td>1</td>\n",
       "      <td>25</td>\n",
       "      <td>Male</td>\n",
       "      <td>Other</td>\n",
       "      <td>360</td>\n",
       "      <td>990</td>\n",
       "      <td>3.99</td>\n",
       "    </tr>\n",
       "    <tr>\n",
       "      <th>96</th>\n",
       "      <td>97</td>\n",
       "      <td>9311</td>\n",
       "      <td>19</td>\n",
       "      <td>1</td>\n",
       "      <td>26</td>\n",
       "      <td>Female</td>\n",
       "      <td>Other</td>\n",
       "      <td>230</td>\n",
       "      <td>369</td>\n",
       "      <td>3.04</td>\n",
       "    </tr>\n",
       "    <tr>\n",
       "      <th>174</th>\n",
       "      <td>175</td>\n",
       "      <td>26268</td>\n",
       "      <td>1</td>\n",
       "      <td>1</td>\n",
       "      <td>18</td>\n",
       "      <td>Female</td>\n",
       "      <td>Student</td>\n",
       "      <td>360</td>\n",
       "      <td>990</td>\n",
       "      <td>2.60</td>\n",
       "    </tr>\n",
       "    <tr>\n",
       "      <th>176</th>\n",
       "      <td>177</td>\n",
       "      <td>341</td>\n",
       "      <td>1</td>\n",
       "      <td>1</td>\n",
       "      <td>20</td>\n",
       "      <td>Male</td>\n",
       "      <td>Student</td>\n",
       "      <td>360</td>\n",
       "      <td>990</td>\n",
       "      <td>4.33</td>\n",
       "    </tr>\n",
       "    <tr>\n",
       "      <th>198</th>\n",
       "      <td>199</td>\n",
       "      <td>6065</td>\n",
       "      <td>1</td>\n",
       "      <td>1</td>\n",
       "      <td>29</td>\n",
       "      <td>Male</td>\n",
       "      <td>Student</td>\n",
       "      <td>360</td>\n",
       "      <td>990</td>\n",
       "      <td>3.83</td>\n",
       "    </tr>\n",
       "    <tr>\n",
       "      <th>...</th>\n",
       "      <td>...</td>\n",
       "      <td>...</td>\n",
       "      <td>...</td>\n",
       "      <td>...</td>\n",
       "      <td>...</td>\n",
       "      <td>...</td>\n",
       "      <td>...</td>\n",
       "      <td>...</td>\n",
       "      <td>...</td>\n",
       "      <td>...</td>\n",
       "    </tr>\n",
       "    <tr>\n",
       "      <th>88725</th>\n",
       "      <td>88726</td>\n",
       "      <td>2346</td>\n",
       "      <td>1</td>\n",
       "      <td>1</td>\n",
       "      <td>15</td>\n",
       "      <td>Male</td>\n",
       "      <td>Student</td>\n",
       "      <td>360</td>\n",
       "      <td>990</td>\n",
       "      <td>4.33</td>\n",
       "    </tr>\n",
       "    <tr>\n",
       "      <th>88749</th>\n",
       "      <td>88750</td>\n",
       "      <td>4940</td>\n",
       "      <td>1</td>\n",
       "      <td>1</td>\n",
       "      <td>38</td>\n",
       "      <td>Male</td>\n",
       "      <td>Other</td>\n",
       "      <td>360</td>\n",
       "      <td>990</td>\n",
       "      <td>3.89</td>\n",
       "    </tr>\n",
       "    <tr>\n",
       "      <th>88886</th>\n",
       "      <td>88887</td>\n",
       "      <td>20371</td>\n",
       "      <td>19</td>\n",
       "      <td>1</td>\n",
       "      <td>27</td>\n",
       "      <td>Male</td>\n",
       "      <td>Other</td>\n",
       "      <td>230</td>\n",
       "      <td>369</td>\n",
       "      <td>3.78</td>\n",
       "    </tr>\n",
       "    <tr>\n",
       "      <th>89129</th>\n",
       "      <td>89130</td>\n",
       "      <td>2259</td>\n",
       "      <td>1</td>\n",
       "      <td>1</td>\n",
       "      <td>20</td>\n",
       "      <td>Male</td>\n",
       "      <td>Student</td>\n",
       "      <td>360</td>\n",
       "      <td>990</td>\n",
       "      <td>4.31</td>\n",
       "    </tr>\n",
       "    <tr>\n",
       "      <th>89138</th>\n",
       "      <td>89139</td>\n",
       "      <td>15046</td>\n",
       "      <td>19</td>\n",
       "      <td>1</td>\n",
       "      <td>26</td>\n",
       "      <td>Female</td>\n",
       "      <td>Working Professional</td>\n",
       "      <td>230</td>\n",
       "      <td>369</td>\n",
       "      <td>2.06</td>\n",
       "    </tr>\n",
       "  </tbody>\n",
       "</table>\n",
       "<p>1282 rows × 10 columns</p>\n",
       "</div>"
      ],
      "text/plain": [
       "       row_id  user_id  category_id  video_id  age  gender  \\\n",
       "41         42    26687            1         1   25    Male   \n",
       "96         97     9311           19         1   26  Female   \n",
       "174       175    26268            1         1   18  Female   \n",
       "176       177      341            1         1   20    Male   \n",
       "198       199     6065            1         1   29    Male   \n",
       "...       ...      ...          ...       ...  ...     ...   \n",
       "88725   88726     2346            1         1   15    Male   \n",
       "88749   88750     4940            1         1   38    Male   \n",
       "88886   88887    20371           19         1   27    Male   \n",
       "89129   89130     2259            1         1   20    Male   \n",
       "89138   89139    15046           19         1   26  Female   \n",
       "\n",
       "                 profession  followers  views  engagement_score  \n",
       "41                    Other        360    990              3.99  \n",
       "96                    Other        230    369              3.04  \n",
       "174                 Student        360    990              2.60  \n",
       "176                 Student        360    990              4.33  \n",
       "198                 Student        360    990              3.83  \n",
       "...                     ...        ...    ...               ...  \n",
       "88725               Student        360    990              4.33  \n",
       "88749                 Other        360    990              3.89  \n",
       "88886                 Other        230    369              3.78  \n",
       "89129               Student        360    990              4.31  \n",
       "89138  Working Professional        230    369              2.06  \n",
       "\n",
       "[1282 rows x 10 columns]"
      ]
     },
     "execution_count": 84,
     "metadata": {},
     "output_type": "execute_result"
    }
   ],
   "source": [
    "train[train.video_id==1]\n",
    "# this video_id where we have 2 categories."
   ]
  },
  {
   "cell_type": "code",
   "execution_count": 85,
   "id": "e34f5d4a",
   "metadata": {},
   "outputs": [
    {
     "data": {
      "text/plain": [
       "category_id\n",
       "1      3\n",
       "2      1\n",
       "3      2\n",
       "4      5\n",
       "5     31\n",
       "6      2\n",
       "7      3\n",
       "8     10\n",
       "9      3\n",
       "10     4\n",
       "11     6\n",
       "12     6\n",
       "13     5\n",
       "14     1\n",
       "15     3\n",
       "16     5\n",
       "17     2\n",
       "18     3\n",
       "19     7\n",
       "20     2\n",
       "Name: video_id, dtype: int64"
      ]
     },
     "execution_count": 85,
     "metadata": {},
     "output_type": "execute_result"
    }
   ],
   "source": [
    "train.groupby('category_id').nunique()['video_id'].head(20)"
   ]
  },
  {
   "cell_type": "code",
   "execution_count": 86,
   "id": "9a95bb58",
   "metadata": {},
   "outputs": [
    {
     "data": {
      "text/plain": [
       "((691, 10), (165, 9))"
      ]
     },
     "execution_count": 86,
     "metadata": {},
     "output_type": "execute_result"
    }
   ],
   "source": [
    "train[(train['video_id']==1)&(train['category_id']==19)].shape,test[(test['video_id']==1)&(test['category_id']==19)].shape"
   ]
  },
  {
   "cell_type": "code",
   "execution_count": 87,
   "id": "887a885b",
   "metadata": {},
   "outputs": [
    {
     "data": {
      "text/html": [
       "<div>\n",
       "<style scoped>\n",
       "    .dataframe tbody tr th:only-of-type {\n",
       "        vertical-align: middle;\n",
       "    }\n",
       "\n",
       "    .dataframe tbody tr th {\n",
       "        vertical-align: top;\n",
       "    }\n",
       "\n",
       "    .dataframe thead th {\n",
       "        text-align: right;\n",
       "    }\n",
       "</style>\n",
       "<table border=\"1\" class=\"dataframe\">\n",
       "  <thead>\n",
       "    <tr style=\"text-align: right;\">\n",
       "      <th></th>\n",
       "      <th>row_id</th>\n",
       "      <th>user_id</th>\n",
       "      <th>category_id</th>\n",
       "      <th>video_id</th>\n",
       "      <th>age</th>\n",
       "      <th>gender</th>\n",
       "      <th>profession</th>\n",
       "      <th>followers</th>\n",
       "      <th>views</th>\n",
       "      <th>engagement_score</th>\n",
       "    </tr>\n",
       "  </thead>\n",
       "  <tbody>\n",
       "    <tr>\n",
       "      <th>0</th>\n",
       "      <td>1</td>\n",
       "      <td>19990</td>\n",
       "      <td>37</td>\n",
       "      <td>128</td>\n",
       "      <td>24</td>\n",
       "      <td>Male</td>\n",
       "      <td>Student</td>\n",
       "      <td>180</td>\n",
       "      <td>1000</td>\n",
       "      <td>4.33</td>\n",
       "    </tr>\n",
       "    <tr>\n",
       "      <th>1</th>\n",
       "      <td>2</td>\n",
       "      <td>5304</td>\n",
       "      <td>32</td>\n",
       "      <td>132</td>\n",
       "      <td>14</td>\n",
       "      <td>Female</td>\n",
       "      <td>Student</td>\n",
       "      <td>330</td>\n",
       "      <td>714</td>\n",
       "      <td>1.79</td>\n",
       "    </tr>\n",
       "    <tr>\n",
       "      <th>2</th>\n",
       "      <td>3</td>\n",
       "      <td>1840</td>\n",
       "      <td>12</td>\n",
       "      <td>24</td>\n",
       "      <td>19</td>\n",
       "      <td>Male</td>\n",
       "      <td>Student</td>\n",
       "      <td>180</td>\n",
       "      <td>138</td>\n",
       "      <td>4.35</td>\n",
       "    </tr>\n",
       "    <tr>\n",
       "      <th>3</th>\n",
       "      <td>4</td>\n",
       "      <td>12597</td>\n",
       "      <td>23</td>\n",
       "      <td>112</td>\n",
       "      <td>19</td>\n",
       "      <td>Male</td>\n",
       "      <td>Student</td>\n",
       "      <td>220</td>\n",
       "      <td>613</td>\n",
       "      <td>3.77</td>\n",
       "    </tr>\n",
       "    <tr>\n",
       "      <th>4</th>\n",
       "      <td>5</td>\n",
       "      <td>13626</td>\n",
       "      <td>23</td>\n",
       "      <td>112</td>\n",
       "      <td>27</td>\n",
       "      <td>Male</td>\n",
       "      <td>Working Professional</td>\n",
       "      <td>220</td>\n",
       "      <td>613</td>\n",
       "      <td>3.13</td>\n",
       "    </tr>\n",
       "  </tbody>\n",
       "</table>\n",
       "</div>"
      ],
      "text/plain": [
       "   row_id  user_id  category_id  video_id  age  gender            profession  \\\n",
       "0       1    19990           37       128   24    Male               Student   \n",
       "1       2     5304           32       132   14  Female               Student   \n",
       "2       3     1840           12        24   19    Male               Student   \n",
       "3       4    12597           23       112   19    Male               Student   \n",
       "4       5    13626           23       112   27    Male  Working Professional   \n",
       "\n",
       "   followers  views  engagement_score  \n",
       "0        180   1000              4.33  \n",
       "1        330    714              1.79  \n",
       "2        180    138              4.35  \n",
       "3        220    613              3.77  \n",
       "4        220    613              3.13  "
      ]
     },
     "execution_count": 87,
     "metadata": {},
     "output_type": "execute_result"
    }
   ],
   "source": [
    "train.head()"
   ]
  },
  {
   "cell_type": "code",
   "execution_count": 88,
   "id": "7588ddab",
   "metadata": {},
   "outputs": [
    {
     "data": {
      "text/html": [
       "<div>\n",
       "<style scoped>\n",
       "    .dataframe tbody tr th:only-of-type {\n",
       "        vertical-align: middle;\n",
       "    }\n",
       "\n",
       "    .dataframe tbody tr th {\n",
       "        vertical-align: top;\n",
       "    }\n",
       "\n",
       "    .dataframe thead th {\n",
       "        text-align: right;\n",
       "    }\n",
       "</style>\n",
       "<table border=\"1\" class=\"dataframe\">\n",
       "  <thead>\n",
       "    <tr style=\"text-align: right;\">\n",
       "      <th></th>\n",
       "      <th>row_id</th>\n",
       "      <th>user_id</th>\n",
       "      <th>category_id</th>\n",
       "      <th>video_id</th>\n",
       "      <th>age</th>\n",
       "      <th>gender</th>\n",
       "      <th>profession</th>\n",
       "      <th>followers</th>\n",
       "      <th>views</th>\n",
       "    </tr>\n",
       "  </thead>\n",
       "  <tbody>\n",
       "    <tr>\n",
       "      <th>0</th>\n",
       "      <td>89198</td>\n",
       "      <td>7986</td>\n",
       "      <td>12</td>\n",
       "      <td>42</td>\n",
       "      <td>14</td>\n",
       "      <td>Male</td>\n",
       "      <td>Student</td>\n",
       "      <td>180</td>\n",
       "      <td>138</td>\n",
       "    </tr>\n",
       "    <tr>\n",
       "      <th>1</th>\n",
       "      <td>89199</td>\n",
       "      <td>11278</td>\n",
       "      <td>34</td>\n",
       "      <td>115</td>\n",
       "      <td>14</td>\n",
       "      <td>Male</td>\n",
       "      <td>Student</td>\n",
       "      <td>230</td>\n",
       "      <td>840</td>\n",
       "    </tr>\n",
       "    <tr>\n",
       "      <th>2</th>\n",
       "      <td>89200</td>\n",
       "      <td>17245</td>\n",
       "      <td>8</td>\n",
       "      <td>110</td>\n",
       "      <td>44</td>\n",
       "      <td>Female</td>\n",
       "      <td>Working Professional</td>\n",
       "      <td>280</td>\n",
       "      <td>628</td>\n",
       "    </tr>\n",
       "    <tr>\n",
       "      <th>3</th>\n",
       "      <td>89201</td>\n",
       "      <td>9851</td>\n",
       "      <td>16</td>\n",
       "      <td>137</td>\n",
       "      <td>18</td>\n",
       "      <td>Male</td>\n",
       "      <td>Student</td>\n",
       "      <td>270</td>\n",
       "      <td>462</td>\n",
       "    </tr>\n",
       "    <tr>\n",
       "      <th>4</th>\n",
       "      <td>89202</td>\n",
       "      <td>16008</td>\n",
       "      <td>34</td>\n",
       "      <td>96</td>\n",
       "      <td>47</td>\n",
       "      <td>Female</td>\n",
       "      <td>Other</td>\n",
       "      <td>230</td>\n",
       "      <td>840</td>\n",
       "    </tr>\n",
       "  </tbody>\n",
       "</table>\n",
       "</div>"
      ],
      "text/plain": [
       "   row_id  user_id  category_id  video_id  age  gender            profession  \\\n",
       "0   89198     7986           12        42   14    Male               Student   \n",
       "1   89199    11278           34       115   14    Male               Student   \n",
       "2   89200    17245            8       110   44  Female  Working Professional   \n",
       "3   89201     9851           16       137   18    Male               Student   \n",
       "4   89202    16008           34        96   47  Female                 Other   \n",
       "\n",
       "   followers  views  \n",
       "0        180    138  \n",
       "1        230    840  \n",
       "2        280    628  \n",
       "3        270    462  \n",
       "4        230    840  "
      ]
     },
     "execution_count": 88,
     "metadata": {},
     "output_type": "execute_result"
    }
   ],
   "source": [
    "test.head()"
   ]
  },
  {
   "cell_type": "code",
   "execution_count": 89,
   "id": "20a8d226",
   "metadata": {},
   "outputs": [],
   "source": [
    "#Label Encode gender and profession\n",
    "combine = [train,test]\n",
    "gender_mapping = {\"Male\": 1, \"Female\": 2}\n",
    "for dataset in combine:\n",
    "    dataset['gender'] = dataset['gender'].map(gender_mapping).astype(int)\n",
    "profession_mapping = {\"Student\": 1, \"Other\": 2, \"Working Professional\": 3}\n",
    "for dataset in combine:\n",
    "    dataset['profession'] = dataset['profession'].map(profession_mapping).astype(int)"
   ]
  },
  {
   "cell_type": "code",
   "execution_count": 90,
   "id": "b78b34de",
   "metadata": {},
   "outputs": [],
   "source": [
    "from sklearn.preprocessing import LabelEncoder\n",
    "\n",
    "le = LabelEncoder()\n",
    "\n",
    "train['gender'] = le.fit_transform(train['gender'])\n",
    "test['gender'] = le.transform(test['gender'])\n",
    "\n",
    "train['profession'] = le.fit_transform(train['profession'])\n",
    "test['profession'] = le.transform(test['profession'])"
   ]
  },
  {
   "cell_type": "code",
   "execution_count": 91,
   "id": "4454a6bc",
   "metadata": {},
   "outputs": [
    {
     "data": {
      "text/plain": [
       "<AxesSubplot:title={'center':'Pearson Correlation of Features'}>"
      ]
     },
     "execution_count": 91,
     "metadata": {},
     "output_type": "execute_result"
    },
    {
     "data": {
      "image/png": "[encoded data removed]",
      "text/plain": [
       "<Figure size 1440x1440 with 2 Axes>"
      ]
     },
     "metadata": {
      "needs_background": "light"
     },
     "output_type": "display_data"
    }
   ],
   "source": [
    "colormap = plt.cm.RdBu\n",
    "plt.figure(figsize=(20,20))\n",
    "plt.title('Pearson Correlation of Features', y=1.05, size=15)\n",
    "sns.heatmap(train.astype(float).corr(),linewidths=0.1,vmax=1.0, \n",
    "            square=True, cmap=colormap, linecolor='white', annot=True)"
   ]
  },
  {
   "cell_type": "code",
   "execution_count": 104,
   "id": "ec807db7",
   "metadata": {},
   "outputs": [],
   "source": [
    "vidtrain = train[(train['video_id']==1)&(train['category_id']==19)]\n",
    "vidtest = test[(test['video_id']==1)&(test['category_id']==19)]"
   ]
  },
  {
   "cell_type": "code",
   "execution_count": 105,
   "id": "a4c8af54",
   "metadata": {},
   "outputs": [],
   "source": [
    "train = train.drop(vidtrain.index)\n",
    "test = test.drop(vidtest.index)\n",
    "\n",
    "train.reset_index(inplace=True)\n",
    "test.reset_index(inplace=True)\n",
    "\n",
    "vidtrain.reset_index(inplace=True)\n",
    "vidtest.reset_index(inplace=True)"
   ]
  },
  {
   "cell_type": "code",
   "execution_count": 106,
   "id": "e608a133",
   "metadata": {},
   "outputs": [],
   "source": [
    "vidtrain['video_id']=176\n",
    "vidtest['video_id']=176"
   ]
  },
  {
   "cell_type": "code",
   "execution_count": 107,
   "id": "3210a3e0",
   "metadata": {},
   "outputs": [],
   "source": [
    "train = pd.concat([train,vidtrain]).sort_values(by='row_id').reset_index().drop(columns=['level_0','index'])\n",
    "test = pd.concat([test,vidtest]).sort_values(by='row_id').reset_index().drop(columns=['level_0','index'])"
   ]
  },
  {
   "cell_type": "code",
   "execution_count": 108,
   "id": "cdfe2aa4",
   "metadata": {},
   "outputs": [
    {
     "data": {
      "text/plain": [
       "((0, 17), (0, 16))"
      ]
     },
     "execution_count": 108,
     "metadata": {},
     "output_type": "execute_result"
    }
   ],
   "source": [
    "train[(train['video_id']==1)&(train['category_id']==19)].shape,test[(test['video_id']==1)&(test['category_id']==19)].shape"
   ]
  },
  {
   "cell_type": "code",
   "execution_count": 109,
   "id": "6def8d55",
   "metadata": {},
   "outputs": [],
   "source": [
    "train['vpf'] = train['views']/train['followers']\n",
    "test['vpf'] = test['views']/test['followers']"
   ]
  },
  {
   "cell_type": "code",
   "execution_count": 110,
   "id": "47f4733f",
   "metadata": {},
   "outputs": [],
   "source": [
    "train['moreview'] = [1 if i>=1 else 0 for i in train['vpf']]\n",
    "test['moreview'] = [1 if i>=1 else 0 for i in test['vpf']]"
   ]
  },
  {
   "cell_type": "code",
   "execution_count": 111,
   "id": "18063975",
   "metadata": {},
   "outputs": [],
   "source": [
    "train['bin'] = pd.cut(train['age'],[0,10,15,20,25,30,35,50,70])\n",
    "test['bin'] = pd.cut(test['age'],[0,10,15,20,25,30,35,50,70])"
   ]
  },
  {
   "cell_type": "code",
   "execution_count": 112,
   "id": "f15d2ea9",
   "metadata": {},
   "outputs": [
    {
     "data": {
      "text/plain": [
       "(15, 20]    22167\n",
       "(20, 25]    15647\n",
       "(30, 35]    13202\n",
       "(25, 30]    12878\n",
       "(10, 15]    12496\n",
       "(35, 50]    11600\n",
       "(0, 10]       752\n",
       "(50, 70]      455\n",
       "Name: bin, dtype: int64"
      ]
     },
     "execution_count": 112,
     "metadata": {},
     "output_type": "execute_result"
    }
   ],
   "source": [
    "train['bin'].value_counts()"
   ]
  },
  {
   "cell_type": "code",
   "execution_count": 113,
   "id": "8c01aaed",
   "metadata": {},
   "outputs": [
    {
     "data": {
      "text/plain": [
       "3.487797011110046"
      ]
     },
     "execution_count": 113,
     "metadata": {},
     "output_type": "execute_result"
    }
   ],
   "source": [
    "train.engagement_score.mean()"
   ]
  },
  {
   "cell_type": "code",
   "execution_count": 114,
   "id": "3b9f68fc",
   "metadata": {},
   "outputs": [],
   "source": [
    "def target(df,df_test,cols):\n",
    "    for col in cols:\n",
    "        new_col = col + '_tenc'\n",
    "        df[new_col] = df[col]\n",
    "        mean = df.groupby(col).mean()['engagement_score']\n",
    "        df[new_col] = [mean[i] for i in df[new_col]] \n",
    "        df_test[new_col] = [mean[i]*0.75 + 3.487797011110046*0.25 for i in df_test[col]] "
   ]
  },
  {
   "cell_type": "code",
   "execution_count": 115,
   "id": "b32ae670",
   "metadata": {},
   "outputs": [],
   "source": [
    "target(train,test,['user_id','category_id','video_id','bin'])\n",
    "#'gender','profession'"
   ]
  },
  {
   "cell_type": "code",
   "execution_count": 116,
   "id": "69e5aac9",
   "metadata": {},
   "outputs": [],
   "source": [
    "def target_two(df,df_test,col1,col2):\n",
    "        new_col = col1 + col2 + '_tenc'\n",
    "        df[new_col] = df[col1]\n",
    "        mean = df.groupby([col1,col2]).mean()['engagement_score']\n",
    "        \n",
    "        df[new_col] = [mean[df.loc[i][col1]][df.loc[i][col2]] for i in range(df.shape[0])] \n",
    "        df_test[new_col] = [mean[df_test.loc[i][col1]][df_test.loc[i][col2]]*0.75 + 3.487797011110046*0.25 for i in range(df_test.shape[0])] \n",
    "\n"
   ]
  },
  {
   "cell_type": "code",
   "execution_count": 117,
   "id": "ac404543",
   "metadata": {},
   "outputs": [],
   "source": [
    "target_two(train,test,'user_id','category_id')\n",
    "target_two(train,test,'user_id','moreview')"
   ]
  },
  {
   "cell_type": "code",
   "execution_count": 118,
   "id": "1d9bddff",
   "metadata": {},
   "outputs": [],
   "source": [
    "# removing useless columns\n",
    "train.drop(columns=['user_id','category_id','video_id','age','bin','moreview'],inplace=True) \n",
    "test.drop(columns=['user_id','category_id','video_id','age','bin','moreview'],inplace=True)"
   ]
  },
  {
   "cell_type": "code",
   "execution_count": 119,
   "id": "0d4a24a6",
   "metadata": {},
   "outputs": [],
   "source": [
    "# Kfold validation \n",
    "from sklearn.model_selection import KFold\n",
    "def make_folds(train_df):\n",
    "    \n",
    "    kf = KFold(n_splits=10)\n",
    "    for f,(t_,v_) in enumerate(kf.split(X=train_df)):\n",
    "            train_df.loc[v_,'kfold'] = f     \n",
    "    return train_df\n",
    "train = make_folds(train)"
   ]
  },
  {
   "cell_type": "code",
   "execution_count": 121,
   "id": "2d78af9f",
   "metadata": {},
   "outputs": [],
   "source": [
    "from sklearn.preprocessing import LabelEncoder\n",
    "\n",
    "le = LabelEncoder()\n",
    "\n",
    "train['gender'] = le.fit_transform(train['gender'])\n",
    "test['gender'] = le.transform(test['gender'])\n",
    "\n",
    "train['profession'] = le.fit_transform(train['profession'])\n",
    "test['profession'] = le.transform(test['profession'])"
   ]
  },
  {
   "cell_type": "code",
   "execution_count": 150,
   "id": "60a7eeb9",
   "metadata": {},
   "outputs": [
    {
     "ename": "TypeError",
     "evalue": "fit() missing 1 required positional argument: 'y'",
     "output_type": "error",
     "traceback": [
      "\u001b[1;31m---------------------------------------------------------------------------\u001b[0m",
      "\u001b[1;31mTypeError\u001b[0m                                 Traceback (most recent call last)",
      "\u001b[1;32m~\\AppData\\Local\\Temp/ipykernel_18024/300024118.py\u001b[0m in \u001b[0;36m<module>\u001b[1;34m\u001b[0m\n\u001b[0;32m     10\u001b[0m     \u001b[1;34m'cat'\u001b[0m\u001b[1;33m:\u001b[0m\u001b[0mCatBoostRegressor\u001b[0m\u001b[1;33m,\u001b[0m\u001b[1;33m\u001b[0m\u001b[1;33m\u001b[0m\u001b[0m\n\u001b[0;32m     11\u001b[0m     'rf':RandomForestRegressor}\n\u001b[1;32m---> 12\u001b[1;33m \u001b[0mRandomForestRegressor\u001b[0m\u001b[1;33m.\u001b[0m\u001b[0mfit\u001b[0m\u001b[1;33m(\u001b[0m\u001b[0mtrain_fold_pred\u001b[0m\u001b[1;33m,\u001b[0m\u001b[0mtest_pred\u001b[0m\u001b[1;33m)\u001b[0m\u001b[1;33m\u001b[0m\u001b[1;33m\u001b[0m\u001b[0m\n\u001b[0m",
      "\u001b[1;31mTypeError\u001b[0m: fit() missing 1 required positional argument: 'y'"
     ]
    }
   ],
   "source": [
    "from sklearn.metrics import r2_score\n",
    "\n",
    "from xgboost import XGBRegressor\n",
    "from lightgbm import LGBMRegressor\n",
    "from catboost import CatBoostRegressor\n",
    "from sklearn.ensemble import RandomForestRegressor\n",
    "\n",
    "models ={ 'xgb':XGBRegressor,# Best Performing Model\n",
    "    'lgbm':LGBMRegressor,\n",
    "    'cat':CatBoostRegressor,\n",
    "    'rf':RandomForestRegressor}\n",
    "RandomForestRegressor.fit(train_fold_pred,test_pred)"
   ]
  },
  {
   "cell_type": "code",
   "execution_count": 144,
   "id": "b36db35f",
   "metadata": {},
   "outputs": [
    {
     "name": "stdout",
     "output_type": "stream",
     "text": [
      "(89197, 1)\n",
      "(11121, 10)\n"
     ]
    }
   ],
   "source": [
    "train_fold_pred = np.zeros((train.shape[0], 1)) \n",
    "test_pred = np.zeros((test.shape[0], 10))\n",
    "print(train_fold_pred.shape)\n",
    "print(test_pred.shape)"
   ]
  },
  {
   "cell_type": "code",
   "execution_count": 145,
   "id": "2682e108",
   "metadata": {},
   "outputs": [
    {
     "data": {
      "text/plain": [
       "['gender',\n",
       " 'profession',\n",
       " 'followers',\n",
       " 'views',\n",
       " 'vpf',\n",
       " 'user_id_tenc',\n",
       " 'category_id_tenc',\n",
       " 'video_id_tenc',\n",
       " 'bin_tenc',\n",
       " 'user_idcategory_id_tenc',\n",
       " 'user_idmoreview_tenc']"
      ]
     },
     "execution_count": 145,
     "metadata": {},
     "output_type": "execute_result"
    }
   ],
   "source": [
    "col = list(train.drop(columns=['row_id','engagement_score','kfold']).columns)\n",
    "score =[]\n",
    "col"
   ]
  },
  {
   "cell_type": "code",
   "execution_count": 146,
   "id": "0c1d58cc",
   "metadata": {},
   "outputs": [],
   "source": [
    "def run_folds(df,test_df,fold,model):\n",
    "\n",
    "    df_train = df[df.kfold!=fold].reset_index(drop=True)\n",
    "    df_valid = df[df.kfold==fold].reset_index(drop=True)\n",
    "    \n",
    "    x_train = df_train.drop(columns=['row_id','engagement_score','kfold'],axis=1)\n",
    "    y_train = df_train.engagement_score.values\n",
    "    \n",
    "    x_valid = df_valid.drop(columns=['row_id','engagement_score','kfold'],axis=1)\n",
    "    y_valid = df_valid.engagement_score.values\n",
    "    \n",
    "    reg = models[model]\n",
    "    \n",
    "    #x_train = pd.DataFrame(scale.fit_transform(x_train),columns=x_train.columns)\n",
    "    #x_valid = pd.DataFrame(scale.transform(x_valid),columns=x_valid.columns)\n",
    "    \n",
    "    print('*'*12,'SKFold', i+1, '*'*12)\n",
    "    reg.fit(x_train, y_train)\n",
    "    print('*'*12,'SKFold', i+1,'End', '*'*12)\n",
    "    \n",
    "    pred_y = reg.predict(x_valid)\n",
    "    score.append(r2_score(y_valid, pred_y ))\n",
    "    \n",
    "    #train_fold_pred[df_valid.index, :] = pred_y.reshape(-1, 1)\n",
    "    test_pred[:, i] = reg.predict(test_df[col])"
   ]
  },
  {
   "cell_type": "code",
   "execution_count": 147,
   "id": "b2c0c955",
   "metadata": {},
   "outputs": [
    {
     "name": "stdout",
     "output_type": "stream",
     "text": [
      "************ SKFold 1 ************\n"
     ]
    },
    {
     "ename": "TypeError",
     "evalue": "fit() missing 1 required positional argument: 'y'",
     "output_type": "error",
     "traceback": [
      "\u001b[1;31m---------------------------------------------------------------------------\u001b[0m",
      "\u001b[1;31mTypeError\u001b[0m                                 Traceback (most recent call last)",
      "\u001b[1;32m~\\AppData\\Local\\Temp/ipykernel_18024/2257640202.py\u001b[0m in \u001b[0;36m<module>\u001b[1;34m\u001b[0m\n\u001b[0;32m      1\u001b[0m \u001b[1;32mfor\u001b[0m \u001b[0mi\u001b[0m \u001b[1;32min\u001b[0m \u001b[0mrange\u001b[0m\u001b[1;33m(\u001b[0m\u001b[1;36m10\u001b[0m\u001b[1;33m)\u001b[0m\u001b[1;33m:\u001b[0m\u001b[1;33m\u001b[0m\u001b[1;33m\u001b[0m\u001b[0m\n\u001b[1;32m----> 2\u001b[1;33m     \u001b[0mrun_folds\u001b[0m\u001b[1;33m(\u001b[0m\u001b[0mtrain\u001b[0m\u001b[1;33m,\u001b[0m\u001b[0mtest\u001b[0m\u001b[1;33m,\u001b[0m\u001b[0mi\u001b[0m\u001b[1;33m,\u001b[0m\u001b[1;34m'xgb'\u001b[0m\u001b[1;33m)\u001b[0m\u001b[1;33m\u001b[0m\u001b[1;33m\u001b[0m\u001b[0m\n\u001b[0m\u001b[0;32m      3\u001b[0m     \u001b[0mprint\u001b[0m\u001b[1;33m(\u001b[0m\u001b[1;34m'Done!'\u001b[0m\u001b[1;33m)\u001b[0m\u001b[1;33m\u001b[0m\u001b[1;33m\u001b[0m\u001b[0m\n\u001b[0;32m      4\u001b[0m \u001b[0mprint\u001b[0m\u001b[1;33m(\u001b[0m\u001b[0mnp\u001b[0m\u001b[1;33m.\u001b[0m\u001b[0mmean\u001b[0m\u001b[1;33m(\u001b[0m\u001b[0mscore\u001b[0m\u001b[1;33m)\u001b[0m\u001b[1;33m)\u001b[0m\u001b[1;33m\u001b[0m\u001b[1;33m\u001b[0m\u001b[0m\n",
      "\u001b[1;32m~\\AppData\\Local\\Temp/ipykernel_18024/2061055296.py\u001b[0m in \u001b[0;36mrun_folds\u001b[1;34m(df, test_df, fold, model)\u001b[0m\n\u001b[0;32m     16\u001b[0m \u001b[1;33m\u001b[0m\u001b[0m\n\u001b[0;32m     17\u001b[0m     \u001b[0mprint\u001b[0m\u001b[1;33m(\u001b[0m\u001b[1;34m'*'\u001b[0m\u001b[1;33m*\u001b[0m\u001b[1;36m12\u001b[0m\u001b[1;33m,\u001b[0m\u001b[1;34m'SKFold'\u001b[0m\u001b[1;33m,\u001b[0m \u001b[0mi\u001b[0m\u001b[1;33m+\u001b[0m\u001b[1;36m1\u001b[0m\u001b[1;33m,\u001b[0m \u001b[1;34m'*'\u001b[0m\u001b[1;33m*\u001b[0m\u001b[1;36m12\u001b[0m\u001b[1;33m)\u001b[0m\u001b[1;33m\u001b[0m\u001b[1;33m\u001b[0m\u001b[0m\n\u001b[1;32m---> 18\u001b[1;33m     \u001b[0mreg\u001b[0m\u001b[1;33m.\u001b[0m\u001b[0mfit\u001b[0m\u001b[1;33m(\u001b[0m\u001b[0mx_train\u001b[0m\u001b[1;33m,\u001b[0m \u001b[0my_train\u001b[0m\u001b[1;33m)\u001b[0m\u001b[1;33m\u001b[0m\u001b[1;33m\u001b[0m\u001b[0m\n\u001b[0m\u001b[0;32m     19\u001b[0m     \u001b[0mprint\u001b[0m\u001b[1;33m(\u001b[0m\u001b[1;34m'*'\u001b[0m\u001b[1;33m*\u001b[0m\u001b[1;36m12\u001b[0m\u001b[1;33m,\u001b[0m\u001b[1;34m'SKFold'\u001b[0m\u001b[1;33m,\u001b[0m \u001b[0mi\u001b[0m\u001b[1;33m+\u001b[0m\u001b[1;36m1\u001b[0m\u001b[1;33m,\u001b[0m\u001b[1;34m'End'\u001b[0m\u001b[1;33m,\u001b[0m \u001b[1;34m'*'\u001b[0m\u001b[1;33m*\u001b[0m\u001b[1;36m12\u001b[0m\u001b[1;33m)\u001b[0m\u001b[1;33m\u001b[0m\u001b[1;33m\u001b[0m\u001b[0m\n\u001b[0;32m     20\u001b[0m \u001b[1;33m\u001b[0m\u001b[0m\n",
      "\u001b[1;32m~\\anaconda3\\lib\\site-packages\\xgboost\\core.py\u001b[0m in \u001b[0;36minner_f\u001b[1;34m(*args, **kwargs)\u001b[0m\n\u001b[0;32m    530\u001b[0m         \u001b[1;32mfor\u001b[0m \u001b[0mk\u001b[0m\u001b[1;33m,\u001b[0m \u001b[0marg\u001b[0m \u001b[1;32min\u001b[0m \u001b[0mzip\u001b[0m\u001b[1;33m(\u001b[0m\u001b[0msig\u001b[0m\u001b[1;33m.\u001b[0m\u001b[0mparameters\u001b[0m\u001b[1;33m,\u001b[0m \u001b[0margs\u001b[0m\u001b[1;33m)\u001b[0m\u001b[1;33m:\u001b[0m\u001b[1;33m\u001b[0m\u001b[1;33m\u001b[0m\u001b[0m\n\u001b[0;32m    531\u001b[0m             \u001b[0mkwargs\u001b[0m\u001b[1;33m[\u001b[0m\u001b[0mk\u001b[0m\u001b[1;33m]\u001b[0m \u001b[1;33m=\u001b[0m \u001b[0marg\u001b[0m\u001b[1;33m\u001b[0m\u001b[1;33m\u001b[0m\u001b[0m\n\u001b[1;32m--> 532\u001b[1;33m         \u001b[1;32mreturn\u001b[0m \u001b[0mf\u001b[0m\u001b[1;33m(\u001b[0m\u001b[1;33m**\u001b[0m\u001b[0mkwargs\u001b[0m\u001b[1;33m)\u001b[0m\u001b[1;33m\u001b[0m\u001b[1;33m\u001b[0m\u001b[0m\n\u001b[0m\u001b[0;32m    533\u001b[0m \u001b[1;33m\u001b[0m\u001b[0m\n\u001b[0;32m    534\u001b[0m     \u001b[1;32mreturn\u001b[0m \u001b[0minner_f\u001b[0m\u001b[1;33m\u001b[0m\u001b[1;33m\u001b[0m\u001b[0m\n",
      "\u001b[1;31mTypeError\u001b[0m: fit() missing 1 required positional argument: 'y'"
     ]
    }
   ],
   "source": [
    "for i in range(10):\n",
    "    run_folds(train,test,i,'xgb')\n",
    "    print('Done!')\n",
    "print(np.mean(score))"
   ]
  },
  {
   "cell_type": "code",
   "execution_count": null,
   "id": "88f09fd6",
   "metadata": {},
   "outputs": [],
   "source": [
    "df = pd.DataFrame(test_pred)\n",
    "df['mean']=df.mean(axis=1)\n",
    "df.head()"
   ]
  },
  {
   "cell_type": "code",
   "execution_count": null,
   "id": "df5a8e3c",
   "metadata": {},
   "outputs": [],
   "source": []
  },
  {
   "cell_type": "code",
   "execution_count": null,
   "id": "90a2803c",
   "metadata": {},
   "outputs": [],
   "source": []
  }
 ],
 "metadata": {
  "kernelspec": {
   "display_name": "Python 3 (ipykernel)",
   "language": "python",
   "name": "python3"
  },
  "language_info": {
   "codemirror_mode": {
    "name": "ipython",
    "version": 3
   },
   "file_extension": ".py",
   "mimetype": "text/x-python",
   "name": "python",
   "nbconvert_exporter": "python",
   "pygments_lexer": "ipython3",
   "version": "3.9.7"
  }
 },
 "nbformat": 4,
 "nbformat_minor": 5
}
